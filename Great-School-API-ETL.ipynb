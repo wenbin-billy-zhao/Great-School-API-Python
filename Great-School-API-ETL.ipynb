{
 "cells": [
  {
   "cell_type": "code",
   "execution_count": 5,
   "metadata": {},
   "outputs": [],
   "source": [
    "import json\n",
    "from pandas.io.json import json_normalize\n",
    "import requests\n",
    "import pandas as pd\n",
    "from config import api_key\n",
    "from pandas.io.json import json_normalize\n",
    "# from xml.dom import minidom\n",
    "import xml.etree.cElementTree as et\n",
    "\n",
    "#from io import StringIO, BytesIO\n",
    "#from lxml import etree\n",
    "#from lxml import objectify\n",
    "\n",
    "import xmltodict\n",
    "\n",
    "csv_reader = pd.read_csv('zip-list.csv')\n",
    "zip_df = pd.DataFrame(csv_reader)\n",
    "zipList = list(zip_df.Zip)"
   ]
  },
  {
   "cell_type": "code",
   "execution_count": 6,
   "metadata": {},
   "outputs": [
    {
     "name": "stdout",
     "output_type": "stream",
     "text": [
      "https://api.greatschools.org/schools/nearby?key=dd4115f5f021fb283604d526b5d7778a&state=TX&zip=78746\n"
     ]
    }
   ],
   "source": [
    "url = 'https://api.greatschools.org/schools/nearby?'\n",
    "queryURL = url + 'key=' + api_key + '&state=TX' + '&zip=' + '78746'\n",
    "print(queryURL)"
   ]
  },
  {
   "cell_type": "code",
   "execution_count": 16,
   "metadata": {},
   "outputs": [],
   "source": [
    "xml = requests.get(queryURL)\n",
    "with open('data.xml', 'wb') as file:\n",
    "    file.write(xml.content)\n",
    "    \n"
   ]
  },
  {
   "cell_type": "code",
   "execution_count": 34,
   "metadata": {},
   "outputs": [
    {
     "name": "stdout",
     "output_type": "stream",
     "text": [
      "{}\n",
      "{}\n",
      "{}\n",
      "{}\n",
      "{}\n",
      "{}\n",
      "{}\n",
      "{}\n",
      "{}\n",
      "{}\n",
      "{}\n",
      "{}\n",
      "{}\n",
      "{}\n",
      "{}\n",
      "{}\n",
      "{}\n",
      "{}\n",
      "{}\n",
      "{}\n",
      "{}\n",
      "{}\n",
      "{}\n",
      "{}\n",
      "{}\n",
      "{}\n",
      "{}\n",
      "{}\n",
      "{}\n",
      "{}\n",
      "{}\n",
      "{}\n",
      "{}\n",
      "{}\n",
      "{}\n",
      "{}\n",
      "{}\n",
      "{}\n",
      "{}\n",
      "{}\n",
      "{}\n",
      "{}\n",
      "{}\n",
      "{}\n",
      "{}\n",
      "{}\n"
     ]
    }
   ],
   "source": [
    "tree = et.parse('data.xml')\n",
    "root = tree.getroot()\n",
    "root.tag\n",
    "root.attrib\n",
    "\n",
    "#for child in root:\n",
    "#    for children in child:\n",
    "#        print(children.tag, children.attrib)\n",
    "\n",
    "# root[1][1].tag\n",
    "\n",
    "for child in root:\n",
    "    for name in child.iter('name'):\n",
    "        print(name.attrib)"
   ]
  },
  {
   "cell_type": "code",
   "execution_count": 18,
   "metadata": {},
   "outputs": [],
   "source": [
    "name = ['name']\n",
    "rating = ['rating']"
   ]
  },
  {
   "cell_type": "code",
   "execution_count": 19,
   "metadata": {},
   "outputs": [
    {
     "ename": "TypeError",
     "evalue": "'ElementTree' object is not iterable",
     "output_type": "error",
     "traceback": [
      "\u001b[1;31m---------------------------------------------------------------------------\u001b[0m",
      "\u001b[1;31mTypeError\u001b[0m                                 Traceback (most recent call last)",
      "\u001b[1;32m<ipython-input-19-9a8dc141b2fa>\u001b[0m in \u001b[0;36m<module>\u001b[1;34m\u001b[0m\n\u001b[1;32m----> 1\u001b[1;33m \u001b[1;32mfor\u001b[0m \u001b[0mchild\u001b[0m \u001b[1;32min\u001b[0m \u001b[0mtree\u001b[0m\u001b[1;33m:\u001b[0m\u001b[1;33m\u001b[0m\u001b[1;33m\u001b[0m\u001b[0m\n\u001b[0m\u001b[0;32m      2\u001b[0m     \u001b[1;32mfor\u001b[0m \u001b[0mchildren\u001b[0m \u001b[1;32min\u001b[0m \u001b[0mchild\u001b[0m\u001b[1;33m:\u001b[0m\u001b[1;33m\u001b[0m\u001b[1;33m\u001b[0m\u001b[0m\n\u001b[0;32m      3\u001b[0m         \u001b[1;32mif\u001b[0m \u001b[0mchildren\u001b[0m\u001b[1;33m.\u001b[0m\u001b[0mfind\u001b[0m\u001b[1;33m(\u001b[0m\u001b[1;34m'.//name'\u001b[0m\u001b[1;33m)\u001b[0m \u001b[1;32mis\u001b[0m \u001b[1;32mNone\u001b[0m\u001b[1;33m:\u001b[0m\u001b[1;33m\u001b[0m\u001b[1;33m\u001b[0m\u001b[0m\n\u001b[0;32m      4\u001b[0m             \u001b[0mt\u001b[0m\u001b[1;33m=\u001b[0m\u001b[1;34m'N'\u001b[0m\u001b[1;33m\u001b[0m\u001b[1;33m\u001b[0m\u001b[0m\n\u001b[0;32m      5\u001b[0m         \u001b[1;32melse\u001b[0m\u001b[1;33m:\u001b[0m\u001b[1;33m\u001b[0m\u001b[1;33m\u001b[0m\u001b[0m\n",
      "\u001b[1;31mTypeError\u001b[0m: 'ElementTree' object is not iterable"
     ]
    }
   ],
   "source": [
    "for child in tree:\n",
    "    for children in child:\n",
    "        if children.find('.//name') is None:\n",
    "            t='N'\n",
    "        else:\n",
    "            t=children.find('.//name').text\n",
    "        name.append(t)\n",
    "    print(name)\n",
    "    print(len(name))"
   ]
  },
  {
   "cell_type": "code",
   "execution_count": null,
   "metadata": {},
   "outputs": [],
   "source": []
  },
  {
   "cell_type": "code",
   "execution_count": null,
   "metadata": {},
   "outputs": [],
   "source": []
  },
  {
   "cell_type": "code",
   "execution_count": null,
   "metadata": {},
   "outputs": [],
   "source": [
    "df = pd.DataFrame()\n",
    "\n",
    "df = pd.DataFrame.from_dict(json_normalize(json_normalize(data)), orient='columns')\n",
    "\n",
    "df.head(20)\n"
   ]
  },
  {
   "cell_type": "code",
   "execution_count": null,
   "metadata": {},
   "outputs": [],
   "source": [
    "xml = objectify.parse('data.xml')\n",
    "root = xml.getroot()\n",
    "\n",
    "\n",
    "i = len(root.getchildren())\n",
    "i"
   ]
  },
  {
   "cell_type": "code",
   "execution_count": null,
   "metadata": {},
   "outputs": [],
   "source": [
    "data=[]\n",
    "for i in range(len(root.getchildren())):\n",
    "    data.append([child.text for child in root.getchildren()[i].getchildren()])\n",
    "\n",
    "df = pd.DataFrame(data)\n",
    "\n",
    "\n",
    "df.head(10)"
   ]
  },
  {
   "cell_type": "code",
   "execution_count": null,
   "metadata": {},
   "outputs": [],
   "source": [
    "## working method by using lxml - parse method with file\n",
    "root = etree.parse('data.xml')\n",
    "etree.tostring(root)"
   ]
  },
  {
   "cell_type": "code",
   "execution_count": null,
   "metadata": {},
   "outputs": [],
   "source": []
  },
  {
   "cell_type": "code",
   "execution_count": null,
   "metadata": {},
   "outputs": [],
   "source": []
  },
  {
   "cell_type": "code",
   "execution_count": null,
   "metadata": {},
   "outputs": [],
   "source": []
  },
  {
   "cell_type": "code",
   "execution_count": null,
   "metadata": {},
   "outputs": [],
   "source": []
  },
  {
   "cell_type": "code",
   "execution_count": null,
   "metadata": {},
   "outputs": [],
   "source": [
    "## working code by using lxml - etree method\n",
    "root = etree.fromstring(xml_data.content)\n",
    "etree.tostring(root)\n",
    "\n",
    "xml = etree.tostring(root)\n",
    "\n"
   ]
  },
  {
   "cell_type": "code",
   "execution_count": null,
   "metadata": {},
   "outputs": [],
   "source": [
    "xml = objectify.parse('data.xml')\n",
    "root = xml.getroot()"
   ]
  },
  {
   "cell_type": "code",
   "execution_count": null,
   "metadata": {},
   "outputs": [],
   "source": [
    "etree = et.fromstring(xml_data.content)\n",
    "dfcols = ['name', 'rating']\n",
    "df = pd.DataFrame(columns=dfcols)\n",
    "\n",
    "for i in etree.iter(tag='school'):\n",
    "    df = df.append(\n",
    "        pd.Series([i.get('gradeRange'), i.get('parentRating')], index=dfcols),\n",
    "        ignore_index=True\n",
    "    )\n",
    "df.head()"
   ]
  },
  {
   "cell_type": "code",
   "execution_count": null,
   "metadata": {},
   "outputs": [],
   "source": [
    "df = pd.DataFrame()"
   ]
  },
  {
   "cell_type": "code",
   "execution_count": null,
   "metadata": {},
   "outputs": [],
   "source": [
    "for i in range "
   ]
  },
  {
   "cell_type": "code",
   "execution_count": null,
   "metadata": {},
   "outputs": [],
   "source": []
  },
  {
   "cell_type": "code",
   "execution_count": null,
   "metadata": {},
   "outputs": [],
   "source": [
    "data=[]\n",
    "for i in range(len(root.getchildren())):\n",
    "    data.append([child.text for child in root.getchildren()[i].getchildren()])\n",
    "\n",
    "df = pd.DataFrame(data)\n",
    "\n",
    "\n",
    "df.head(10)\n"
   ]
  },
  {
   "cell_type": "code",
   "execution_count": null,
   "metadata": {},
   "outputs": [],
   "source": [
    "dfcols = ['gsID', 'name', 'phone','street']\n",
    "\n",
    "df = pd.DataFrame(columns=dfcols)\n",
    "\n",
    "def getvalueofnode( node ):\n",
    "    return node.text if node is not None else None\n",
    "\n",
    "for node in parsedXML.getroot():\n",
    "    gsID = node.get.attribute('gsID')\n",
    "    name = node.find('name')\n",
    "    phone = node.find('phone')\n",
    "    street = node.find('address')\n",
    "    \n",
    "    df = df.append(pd.Series( \n",
    "        [getvalueofnode(gsID), getvalueofnode(name), getvalueofnode(phone), getvalueofnode(street)],\n",
    "        index=dfcols),ignore_index=True\n",
    "    )\n",
    "\n",
    "    \n",
    "df.head()"
   ]
  }
 ],
 "metadata": {
  "kernelspec": {
   "display_name": "Python(PythonData)",
   "language": "python",
   "name": "pythondata"
  },
  "language_info": {
   "codemirror_mode": {
    "name": "ipython",
    "version": 3
   },
   "file_extension": ".py",
   "mimetype": "text/x-python",
   "name": "python",
   "nbconvert_exporter": "python",
   "pygments_lexer": "ipython3",
   "version": "3.6.7"
  }
 },
 "nbformat": 4,
 "nbformat_minor": 2
}
